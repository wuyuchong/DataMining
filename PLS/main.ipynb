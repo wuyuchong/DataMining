{
 "cells": [
  {
   "cell_type": "markdown",
   "metadata": {},
   "source": [
    "\n",
    "# 简介\n",
    "\n",
    "此篇意在比较 PCR（主成分分析）和 PLS（偏最小二乘回归）的效果，得出在什么情况下哪种方法更为合适。\n",
    "\n",
    "模拟了一个 n 个观测值，p 个变量，变量之间相关系数为 $\\rho$ 的数据集，通过 $\\beta_0$ 和 $\\beta_1$ 加上一个标准正态分布的残差模拟出被解释变量。\n",
    "\n",
    "# 说明\n",
    "\n",
    "在 comparison.py 中定义了一个 comparison 函数，用于输出 PCR 和 PLS 的指标对比，分别包括：\n",
    "\n",
    "- 交叉验证中的测试误差\n",
    "- 成分的个数（交叉验证中的测试误差取到最小时）\n",
    "- 对Y的解释程度（在此成分个数下）\n",
    "\n",
    "# 结论\n",
    "\n",
    "相比于 PCR，PLS 在以下情况的表现更佳：\n",
    "\n",
    "- 变量个数更多\n",
    "- 变量之间相关系数较小\n",
    "- 各个变量的系数较大（变量对结果的影响较大）\n",
    "\n",
    "# 模拟过程\n",
    "\n",
    "## 变化 - p\n",
    "\n"
   ]
  },
  {
   "cell_type": "code",
   "execution_count": 12,
   "metadata": {
    "autoscroll": false
   },
   "outputs": [],
   "source": [
    "import numpy as np\n",
    "import pandas as pd\n",
    "from scipy.stats import norm\n",
    "from src.scale import scale\n",
    "from src.sim import sim\n",
    "from model.comparison import comparison"
   ]
  },
  {
   "cell_type": "code",
   "execution_count": 13,
   "metadata": {
    "autoscroll": false
   },
   "outputs": [
    {
     "data": {
      "text/html": [
       "<div>\n",
       "<style scoped>\n",
       "    .dataframe tbody tr th:only-of-type {\n",
       "        vertical-align: middle;\n",
       "    }\n",
       "\n",
       "    .dataframe tbody tr th {\n",
       "        vertical-align: top;\n",
       "    }\n",
       "\n",
       "    .dataframe thead th {\n",
       "        text-align: right;\n",
       "    }\n",
       "</style>\n",
       "<table border=\"1\" class=\"dataframe\">\n",
       "  <thead>\n",
       "    <tr style=\"text-align: right;\">\n",
       "      <th></th>\n",
       "      <th>methods</th>\n",
       "      <th>n components</th>\n",
       "      <th>test error</th>\n",
       "      <th>variation explanation</th>\n",
       "    </tr>\n",
       "  </thead>\n",
       "  <tbody>\n",
       "    <tr>\n",
       "      <td>0</td>\n",
       "      <td>PCR</td>\n",
       "      <td>6</td>\n",
       "      <td>1.026625</td>\n",
       "      <td>0.872094</td>\n",
       "    </tr>\n",
       "    <tr>\n",
       "      <td>1</td>\n",
       "      <td>PLS</td>\n",
       "      <td>2</td>\n",
       "      <td>1.031686</td>\n",
       "      <td>0.872448</td>\n",
       "    </tr>\n",
       "  </tbody>\n",
       "</table>\n",
       "</div>"
      ],
      "text/plain": [
       "  methods  n components  test error  variation explanation\n",
       "0     PCR             6    1.026625               0.872094\n",
       "1     PLS             2    1.031686               0.872448"
      ]
     },
     "execution_count": 13,
     "metadata": {},
     "output_type": "execute_result"
    }
   ],
   "source": [
    "n, p, rho = 1000, 10, 0.5\n",
    "mu = norm.rvs(size=p, scale=1)\n",
    "beta0, beta1 = 0.5, 0.5 * np.ones(p, dtype=float)\n",
    "comparison(n, p, rho, mu, beta0, beta1)"
   ]
  },
  {
   "cell_type": "code",
   "execution_count": 14,
   "metadata": {
    "autoscroll": false
   },
   "outputs": [
    {
     "data": {
      "text/html": [
       "<div>\n",
       "<style scoped>\n",
       "    .dataframe tbody tr th:only-of-type {\n",
       "        vertical-align: middle;\n",
       "    }\n",
       "\n",
       "    .dataframe tbody tr th {\n",
       "        vertical-align: top;\n",
       "    }\n",
       "\n",
       "    .dataframe thead th {\n",
       "        text-align: right;\n",
       "    }\n",
       "</style>\n",
       "<table border=\"1\" class=\"dataframe\">\n",
       "  <thead>\n",
       "    <tr style=\"text-align: right;\">\n",
       "      <th></th>\n",
       "      <th>methods</th>\n",
       "      <th>n components</th>\n",
       "      <th>test error</th>\n",
       "      <th>variation explanation</th>\n",
       "    </tr>\n",
       "  </thead>\n",
       "  <tbody>\n",
       "    <tr>\n",
       "      <td>0</td>\n",
       "      <td>PCR</td>\n",
       "      <td>19</td>\n",
       "      <td>1.046740</td>\n",
       "      <td>0.953943</td>\n",
       "    </tr>\n",
       "    <tr>\n",
       "      <td>1</td>\n",
       "      <td>PLS</td>\n",
       "      <td>2</td>\n",
       "      <td>1.055306</td>\n",
       "      <td>0.954295</td>\n",
       "    </tr>\n",
       "  </tbody>\n",
       "</table>\n",
       "</div>"
      ],
      "text/plain": [
       "  methods  n components  test error  variation explanation\n",
       "0     PCR            19    1.046740               0.953943\n",
       "1     PLS             2    1.055306               0.954295"
      ]
     },
     "execution_count": 14,
     "metadata": {},
     "output_type": "execute_result"
    }
   ],
   "source": [
    "n, p, rho = 1000, 30, 0.5\n",
    "mu = norm.rvs(size=p, scale=1)\n",
    "beta0, beta1 = 0.5, 0.5 * np.ones(p, dtype=float)\n",
    "comparison(n, p, rho, mu, beta0, beta1)"
   ]
  },
  {
   "cell_type": "code",
   "execution_count": 15,
   "metadata": {
    "autoscroll": false
   },
   "outputs": [
    {
     "data": {
      "text/html": [
       "<div>\n",
       "<style scoped>\n",
       "    .dataframe tbody tr th:only-of-type {\n",
       "        vertical-align: middle;\n",
       "    }\n",
       "\n",
       "    .dataframe tbody tr th {\n",
       "        vertical-align: top;\n",
       "    }\n",
       "\n",
       "    .dataframe thead th {\n",
       "        text-align: right;\n",
       "    }\n",
       "</style>\n",
       "<table border=\"1\" class=\"dataframe\">\n",
       "  <thead>\n",
       "    <tr style=\"text-align: right;\">\n",
       "      <th></th>\n",
       "      <th>methods</th>\n",
       "      <th>n components</th>\n",
       "      <th>test error</th>\n",
       "      <th>variation explanation</th>\n",
       "    </tr>\n",
       "  </thead>\n",
       "  <tbody>\n",
       "    <tr>\n",
       "      <td>0</td>\n",
       "      <td>PCR</td>\n",
       "      <td>19</td>\n",
       "      <td>1.063145</td>\n",
       "      <td>0.968717</td>\n",
       "    </tr>\n",
       "    <tr>\n",
       "      <td>1</td>\n",
       "      <td>PLS</td>\n",
       "      <td>2</td>\n",
       "      <td>1.064358</td>\n",
       "      <td>0.970807</td>\n",
       "    </tr>\n",
       "  </tbody>\n",
       "</table>\n",
       "</div>"
      ],
      "text/plain": [
       "  methods  n components  test error  variation explanation\n",
       "0     PCR            19    1.063145               0.968717\n",
       "1     PLS             2    1.064358               0.970807"
      ]
     },
     "execution_count": 15,
     "metadata": {},
     "output_type": "execute_result"
    }
   ],
   "source": [
    "n, p, rho = 1000, 50, 0.5\n",
    "mu = norm.rvs(size=p, scale=1)\n",
    "beta0, beta1 = 0.5, 0.5 * np.ones(p, dtype=float)\n",
    "comparison(n, p, rho, mu, beta0, beta1)"
   ]
  },
  {
   "cell_type": "markdown",
   "metadata": {},
   "source": [
    "\n",
    "## 变化 - rho\n",
    "\n"
   ]
  },
  {
   "cell_type": "code",
   "execution_count": 16,
   "metadata": {
    "autoscroll": false
   },
   "outputs": [
    {
     "data": {
      "text/html": [
       "<div>\n",
       "<style scoped>\n",
       "    .dataframe tbody tr th:only-of-type {\n",
       "        vertical-align: middle;\n",
       "    }\n",
       "\n",
       "    .dataframe tbody tr th {\n",
       "        vertical-align: top;\n",
       "    }\n",
       "\n",
       "    .dataframe thead th {\n",
       "        text-align: right;\n",
       "    }\n",
       "</style>\n",
       "<table border=\"1\" class=\"dataframe\">\n",
       "  <thead>\n",
       "    <tr style=\"text-align: right;\">\n",
       "      <th></th>\n",
       "      <th>methods</th>\n",
       "      <th>n components</th>\n",
       "      <th>test error</th>\n",
       "      <th>variation explanation</th>\n",
       "    </tr>\n",
       "  </thead>\n",
       "  <tbody>\n",
       "    <tr>\n",
       "      <td>0</td>\n",
       "      <td>PCR</td>\n",
       "      <td>28</td>\n",
       "      <td>1.051644</td>\n",
       "      <td>0.923607</td>\n",
       "    </tr>\n",
       "    <tr>\n",
       "      <td>1</td>\n",
       "      <td>PLS</td>\n",
       "      <td>2</td>\n",
       "      <td>1.054558</td>\n",
       "      <td>0.923748</td>\n",
       "    </tr>\n",
       "  </tbody>\n",
       "</table>\n",
       "</div>"
      ],
      "text/plain": [
       "  methods  n components  test error  variation explanation\n",
       "0     PCR            28    1.051644               0.923607\n",
       "1     PLS             2    1.054558               0.923748"
      ]
     },
     "execution_count": 16,
     "metadata": {},
     "output_type": "execute_result"
    }
   ],
   "source": [
    "n, p, rho = 1000, 30, 0.25\n",
    "mu = norm.rvs(size=p, scale=1)\n",
    "beta0, beta1 = 0.5, 0.5 * np.ones(p, dtype=float)\n",
    "comparison(n, p, rho, mu, beta0, beta1)"
   ]
  },
  {
   "cell_type": "code",
   "execution_count": 17,
   "metadata": {
    "autoscroll": false
   },
   "outputs": [
    {
     "data": {
      "text/html": [
       "<div>\n",
       "<style scoped>\n",
       "    .dataframe tbody tr th:only-of-type {\n",
       "        vertical-align: middle;\n",
       "    }\n",
       "\n",
       "    .dataframe tbody tr th {\n",
       "        vertical-align: top;\n",
       "    }\n",
       "\n",
       "    .dataframe thead th {\n",
       "        text-align: right;\n",
       "    }\n",
       "</style>\n",
       "<table border=\"1\" class=\"dataframe\">\n",
       "  <thead>\n",
       "    <tr style=\"text-align: right;\">\n",
       "      <th></th>\n",
       "      <th>methods</th>\n",
       "      <th>n components</th>\n",
       "      <th>test error</th>\n",
       "      <th>variation explanation</th>\n",
       "    </tr>\n",
       "  </thead>\n",
       "  <tbody>\n",
       "    <tr>\n",
       "      <td>0</td>\n",
       "      <td>PCR</td>\n",
       "      <td>20</td>\n",
       "      <td>0.989934</td>\n",
       "      <td>0.950897</td>\n",
       "    </tr>\n",
       "    <tr>\n",
       "      <td>1</td>\n",
       "      <td>PLS</td>\n",
       "      <td>3</td>\n",
       "      <td>0.992057</td>\n",
       "      <td>0.951363</td>\n",
       "    </tr>\n",
       "  </tbody>\n",
       "</table>\n",
       "</div>"
      ],
      "text/plain": [
       "  methods  n components  test error  variation explanation\n",
       "0     PCR            20    0.989934               0.950897\n",
       "1     PLS             3    0.992057               0.951363"
      ]
     },
     "execution_count": 17,
     "metadata": {},
     "output_type": "execute_result"
    }
   ],
   "source": [
    "n, p, rho = 1000, 30, 0.5\n",
    "mu = norm.rvs(size=p, scale=1)\n",
    "beta0, beta1 = 0.5, 0.5 * np.ones(p, dtype=float)\n",
    "comparison(n, p, rho, mu, beta0, beta1)"
   ]
  },
  {
   "cell_type": "code",
   "execution_count": 18,
   "metadata": {
    "autoscroll": false
   },
   "outputs": [
    {
     "data": {
      "text/html": [
       "<div>\n",
       "<style scoped>\n",
       "    .dataframe tbody tr th:only-of-type {\n",
       "        vertical-align: middle;\n",
       "    }\n",
       "\n",
       "    .dataframe tbody tr th {\n",
       "        vertical-align: top;\n",
       "    }\n",
       "\n",
       "    .dataframe thead th {\n",
       "        text-align: right;\n",
       "    }\n",
       "</style>\n",
       "<table border=\"1\" class=\"dataframe\">\n",
       "  <thead>\n",
       "    <tr style=\"text-align: right;\">\n",
       "      <th></th>\n",
       "      <th>methods</th>\n",
       "      <th>n components</th>\n",
       "      <th>test error</th>\n",
       "      <th>variation explanation</th>\n",
       "    </tr>\n",
       "  </thead>\n",
       "  <tbody>\n",
       "    <tr>\n",
       "      <td>0</td>\n",
       "      <td>PCR</td>\n",
       "      <td>10</td>\n",
       "      <td>0.964220</td>\n",
       "      <td>0.980365</td>\n",
       "    </tr>\n",
       "    <tr>\n",
       "      <td>1</td>\n",
       "      <td>PLS</td>\n",
       "      <td>4</td>\n",
       "      <td>0.971294</td>\n",
       "      <td>0.980715</td>\n",
       "    </tr>\n",
       "  </tbody>\n",
       "</table>\n",
       "</div>"
      ],
      "text/plain": [
       "  methods  n components  test error  variation explanation\n",
       "0     PCR            10    0.964220               0.980365\n",
       "1     PLS             4    0.971294               0.980715"
      ]
     },
     "execution_count": 18,
     "metadata": {},
     "output_type": "execute_result"
    }
   ],
   "source": [
    "n, p, rho = 1000, 30, 0.75\n",
    "mu = norm.rvs(size=p, scale=1)\n",
    "beta0, beta1 = 0.5, 0.5 * np.ones(p, dtype=float)\n",
    "comparison(n, p, rho, mu, beta0, beta1)"
   ]
  },
  {
   "cell_type": "markdown",
   "metadata": {},
   "source": [
    "\n",
    "## 变化 - beta\n",
    "\n"
   ]
  },
  {
   "cell_type": "code",
   "execution_count": 19,
   "metadata": {
    "autoscroll": false
   },
   "outputs": [
    {
     "data": {
      "text/html": [
       "<div>\n",
       "<style scoped>\n",
       "    .dataframe tbody tr th:only-of-type {\n",
       "        vertical-align: middle;\n",
       "    }\n",
       "\n",
       "    .dataframe tbody tr th {\n",
       "        vertical-align: top;\n",
       "    }\n",
       "\n",
       "    .dataframe thead th {\n",
       "        text-align: right;\n",
       "    }\n",
       "</style>\n",
       "<table border=\"1\" class=\"dataframe\">\n",
       "  <thead>\n",
       "    <tr style=\"text-align: right;\">\n",
       "      <th></th>\n",
       "      <th>methods</th>\n",
       "      <th>n components</th>\n",
       "      <th>test error</th>\n",
       "      <th>variation explanation</th>\n",
       "    </tr>\n",
       "  </thead>\n",
       "  <tbody>\n",
       "    <tr>\n",
       "      <td>0</td>\n",
       "      <td>PCR</td>\n",
       "      <td>5</td>\n",
       "      <td>1.029797</td>\n",
       "      <td>0.446099</td>\n",
       "    </tr>\n",
       "    <tr>\n",
       "      <td>1</td>\n",
       "      <td>PLS</td>\n",
       "      <td>0</td>\n",
       "      <td>1.028784</td>\n",
       "      <td>0.448567</td>\n",
       "    </tr>\n",
       "  </tbody>\n",
       "</table>\n",
       "</div>"
      ],
      "text/plain": [
       "  methods  n components  test error  variation explanation\n",
       "0     PCR             5    1.029797               0.446099\n",
       "1     PLS             0    1.028784               0.448567"
      ]
     },
     "execution_count": 19,
     "metadata": {},
     "output_type": "execute_result"
    }
   ],
   "source": [
    "n, p, rho = 1000, 30, 0.5\n",
    "mu = norm.rvs(size=p, scale=1)\n",
    "beta0, beta1 = 0.1, 0.1 * np.ones(p, dtype=float)\n",
    "comparison(n, p, rho, mu, beta0, beta1)"
   ]
  },
  {
   "cell_type": "code",
   "execution_count": 20,
   "metadata": {
    "autoscroll": false
   },
   "outputs": [
    {
     "data": {
      "text/html": [
       "<div>\n",
       "<style scoped>\n",
       "    .dataframe tbody tr th:only-of-type {\n",
       "        vertical-align: middle;\n",
       "    }\n",
       "\n",
       "    .dataframe tbody tr th {\n",
       "        vertical-align: top;\n",
       "    }\n",
       "\n",
       "    .dataframe thead th {\n",
       "        text-align: right;\n",
       "    }\n",
       "</style>\n",
       "<table border=\"1\" class=\"dataframe\">\n",
       "  <thead>\n",
       "    <tr style=\"text-align: right;\">\n",
       "      <th></th>\n",
       "      <th>methods</th>\n",
       "      <th>n components</th>\n",
       "      <th>test error</th>\n",
       "      <th>variation explanation</th>\n",
       "    </tr>\n",
       "  </thead>\n",
       "  <tbody>\n",
       "    <tr>\n",
       "      <td>0</td>\n",
       "      <td>PCR</td>\n",
       "      <td>17</td>\n",
       "      <td>1.105322</td>\n",
       "      <td>0.957875</td>\n",
       "    </tr>\n",
       "    <tr>\n",
       "      <td>1</td>\n",
       "      <td>PLS</td>\n",
       "      <td>3</td>\n",
       "      <td>1.101779</td>\n",
       "      <td>0.958351</td>\n",
       "    </tr>\n",
       "  </tbody>\n",
       "</table>\n",
       "</div>"
      ],
      "text/plain": [
       "  methods  n components  test error  variation explanation\n",
       "0     PCR            17    1.105322               0.957875\n",
       "1     PLS             3    1.101779               0.958351"
      ]
     },
     "execution_count": 20,
     "metadata": {},
     "output_type": "execute_result"
    }
   ],
   "source": [
    "n, p, rho = 1000, 30, 0.5\n",
    "mu = norm.rvs(size=p, scale=1)\n",
    "beta0, beta1 = 0.5, 0.5 * np.ones(p, dtype=float)\n",
    "comparison(n, p, rho, mu, beta0, beta1)"
   ]
  },
  {
   "cell_type": "code",
   "execution_count": 21,
   "metadata": {
    "autoscroll": false
   },
   "outputs": [
    {
     "data": {
      "text/html": [
       "<div>\n",
       "<style scoped>\n",
       "    .dataframe tbody tr th:only-of-type {\n",
       "        vertical-align: middle;\n",
       "    }\n",
       "\n",
       "    .dataframe tbody tr th {\n",
       "        vertical-align: top;\n",
       "    }\n",
       "\n",
       "    .dataframe thead th {\n",
       "        text-align: right;\n",
       "    }\n",
       "</style>\n",
       "<table border=\"1\" class=\"dataframe\">\n",
       "  <thead>\n",
       "    <tr style=\"text-align: right;\">\n",
       "      <th></th>\n",
       "      <th>methods</th>\n",
       "      <th>n components</th>\n",
       "      <th>test error</th>\n",
       "      <th>variation explanation</th>\n",
       "    </tr>\n",
       "  </thead>\n",
       "  <tbody>\n",
       "    <tr>\n",
       "      <td>0</td>\n",
       "      <td>PCR</td>\n",
       "      <td>25</td>\n",
       "      <td>1.029176</td>\n",
       "      <td>0.988951</td>\n",
       "    </tr>\n",
       "    <tr>\n",
       "      <td>1</td>\n",
       "      <td>PLS</td>\n",
       "      <td>5</td>\n",
       "      <td>1.030573</td>\n",
       "      <td>0.988981</td>\n",
       "    </tr>\n",
       "  </tbody>\n",
       "</table>\n",
       "</div>"
      ],
      "text/plain": [
       "  methods  n components  test error  variation explanation\n",
       "0     PCR            25    1.029176               0.988951\n",
       "1     PLS             5    1.030573               0.988981"
      ]
     },
     "execution_count": 21,
     "metadata": {},
     "output_type": "execute_result"
    }
   ],
   "source": [
    "n, p, rho = 1000, 30, 0.5\n",
    "mu = norm.rvs(size=p, scale=1)\n",
    "beta0, beta1 = 1, 1 * np.ones(p, dtype=float)\n",
    "comparison(n, p, rho, mu, beta0, beta1)"
   ]
  }
 ],
 "metadata": {
  "kernelspec": {
   "display_name": "Python 3",
   "language": "python",
   "name": "python3"
  },
  "language_info": {
   "codemirror_mode": {
    "name": "ipython",
    "version": 3
   },
   "file_extension": ".py",
   "mimetype": "text/x-python",
   "name": "python",
   "nbconvert_exporter": "python",
   "pygments_lexer": "ipython3",
   "version": "3.7.4"
  }
 },
 "nbformat": 4,
 "nbformat_minor": 1
}

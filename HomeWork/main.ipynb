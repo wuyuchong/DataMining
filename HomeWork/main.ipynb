{
 "cells": [
  {
   "cell_type": "markdown",
   "metadata": {},
   "source": [
    "# Logistic 回归 和 神经网络算法\n",
    "此文件中只包含测试用例 Demo\n",
    "\n",
    "## 请先阅读 代码文档.pdf 中模型的建立、求解和逐步讲解。\n"
   ]
  },
  {
   "cell_type": "code",
   "execution_count": null,
   "metadata": {},
   "outputs": [],
   "source": [
    "# 作者：吴宇翀 经济统计学 2017310836 https://wuyuchong.com\n",
    "\n",
    "# 代码开源托管在 https://github.com/wuyuchong/DataMining/tree/master/HomeWork\n",
    "\n",
    "## ----------------------------------------------------------------------------------------------------\n",
    "# 使用 sklearn 中的数据集作为测试用例\n",
    "import numpy as np\n",
    "import math\n",
    "from sklearn import datasets"
   ]
  },
  {
   "cell_type": "code",
   "execution_count": 2,
   "metadata": {},
   "outputs": [
    {
     "name": "stdout",
     "output_type": "stream",
     "text": [
      "epoch: 8\n",
      "theta: [ 0.05586408 -0.68733466 -1.75042736  2.95078531  1.58964498]\n"
     ]
    },
    {
     "data": {
      "text/plain": [
       "array([0., 0., 0., 0., 0., 0., 0., 0., 0., 0., 0., 0., 0., 0., 0., 0., 0.,\n",
       "       0., 0., 0., 0., 0., 0., 0., 0., 0., 0., 0., 0., 0., 0., 0., 0., 0.,\n",
       "       0., 0., 0., 0., 0., 0., 0., 0., 0., 0., 0., 0., 0., 0., 0., 0., 1.,\n",
       "       1., 1., 1., 1., 1., 1., 1., 1., 1., 1., 1., 1., 1., 1., 1., 1., 1.,\n",
       "       1., 1., 1., 1., 1., 1., 1., 1., 1., 1., 1., 1., 1., 1., 1., 1., 1.,\n",
       "       1., 1., 1., 1., 1., 1., 1., 1., 1., 1., 1., 1., 1., 1., 1.])"
      ]
     },
     "execution_count": 2,
     "metadata": {},
     "output_type": "execute_result"
    }
   ],
   "source": [
    "## ----------------------------------------------------------------------------------------------------\n",
    "# Logistic回归 算法测试用例\n",
    "\n",
    "import numpy as np\n",
    "import math\n",
    "from models.LogisticRegression import LogisticRegression\n",
    "\n",
    "iris = datasets.load_iris()\n",
    "X = iris['data']\n",
    "y = iris['target']\n",
    "X = X[y!=2]\n",
    "y = y[y!=2]\n",
    "\n",
    "Logstic = LogisticRegression(X, y, threshold = 0.5)    \n",
    "Logstic.fit(alpha = 0.01, accuracy = 0.001)\n",
    "print(\"epoch:\", Logstic.epoch)\n",
    "print(\"theta:\", Logstic.thetas)\n",
    "y_predict = Logstic.predict()\n",
    "y_predict"
   ]
  },
  {
   "cell_type": "code",
   "execution_count": 4,
   "metadata": {},
   "outputs": [
    {
     "data": {
      "text/plain": [
       "array([0.00612189, 0.0630929 , 0.00633335, 0.00679723, 0.00507907,\n",
       "       0.00506943, 0.00485548, 0.00650541, 0.00825689, 0.02099575,\n",
       "       0.00625819, 0.00527099, 0.02816319, 0.00547294, 0.00604891,\n",
       "       0.00482305, 0.00506943, 0.00612189, 0.00855735, 0.0048618 ,\n",
       "       0.03348889, 0.00501548, 0.00471269, 0.01310494, 0.00527099,\n",
       "       0.15951826, 0.00650541, 0.00723052, 0.0109153 , 0.00633335,\n",
       "       0.01237574, 0.03348889, 0.00477186, 0.00482469, 0.02099575,\n",
       "       0.01628059, 0.02447208, 0.00491453, 0.00615798, 0.0079752 ,\n",
       "       0.00551203, 0.94783952, 0.00493599, 0.00551203, 0.0048618 ,\n",
       "       0.02816319, 0.0048618 , 0.00559769, 0.00560638, 0.00898936,\n",
       "       0.98109248, 0.97997156, 0.98104199, 0.98000492, 0.98081001,\n",
       "       0.97862178, 0.97727701, 0.97327073, 0.98088105, 0.96609978,\n",
       "       0.97936396, 0.97762857, 0.98022802, 0.98026693, 0.97322983,\n",
       "       0.98093453, 0.96338667, 0.98001792, 0.98030098, 0.98000188,\n",
       "       0.96480269, 0.98048591, 0.98057894, 0.98048591, 0.98076196,\n",
       "       0.98088815, 0.98090211, 0.98094353, 0.97988157, 0.98002613,\n",
       "       0.97994905, 0.97994905, 0.98001792, 0.98044387, 0.91186996,\n",
       "       0.92324553, 0.98093453, 0.98042374, 0.96338667, 0.97972117,\n",
       "       0.97913902, 0.97973749, 0.98024183, 0.97809794, 0.97892728,\n",
       "       0.97121131, 0.97640171, 0.9805073 , 0.97525214, 0.97862178])"
      ]
     },
     "execution_count": 4,
     "metadata": {},
     "output_type": "execute_result"
    }
   ],
   "source": [
    "## ----------------------------------------------------------------------------------------------------\n",
    "# 神经网络 算法测试用例\n",
    "\n",
    "from models.NeuralNetwork import NeuralNetwork\n",
    "\n",
    "iris = datasets.load_iris()\n",
    "X = iris['data']\n",
    "y = iris['target']\n",
    "X = X[y!=2][:,0:2]\n",
    "y = y[y!=2]\n",
    "\n",
    "np.random.seed(1)\n",
    "model = NeuralNetwork(X, y, learn_rate = 0.1, epochs = 1000)    \n",
    "model.train()\n",
    "model.predict()"
   ]
  },
  {
   "cell_type": "markdown",
   "metadata": {},
   "source": [
    "## 详解见 代码文档.pdf "
   ]
  }
 ],
 "metadata": {
  "kernelspec": {
   "display_name": "Python 3",
   "language": "python",
   "name": "python3"
  },
  "language_info": {
   "codemirror_mode": {
    "name": "ipython",
    "version": 3
   },
   "file_extension": ".py",
   "mimetype": "text/x-python",
   "name": "python",
   "nbconvert_exporter": "python",
   "pygments_lexer": "ipython3",
   "version": "3.7.4"
  }
 },
 "nbformat": 4,
 "nbformat_minor": 2
}

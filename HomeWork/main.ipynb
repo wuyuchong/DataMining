{
 "cells": [
  {
   "cell_type": "markdown",
   "metadata": {},
   "source": [
    "# Logistic 回归 和 神经网络算法\n",
    "此文件中只包含测试用例 Demo\n",
    "\n",
    "## 请先阅读 代码文档.pdf 中模型的建立、求解和逐步讲解。\n",
    "\n",
    "更新：在作业第一次提交的基础上，又做了以下改进：\n",
    "\n",
    "- 为 Logit算法 添加了新功能：引入自动的可变的学习率，在迭代刚开始时较大，以便于损失函数的迅速变化；在迭代中后期则尽量小，以保证精确度。\n",
    "- 为 神经网络算法 添加了新功能：可通过 *figure* 函数直接画出损失函数的迭代图。"
   ]
  },
  {
   "cell_type": "code",
   "execution_count": 2,
   "metadata": {},
   "outputs": [],
   "source": [
    "# 作者：吴宇翀 经济统计学 2017310836 https://wuyuchong.com\n",
    "\n",
    "# 代码开源托管在 https://github.com/wuyuchong/DataMining/tree/master/HomeWork\n",
    "\n",
    "## ----------------------------------------------------------------------------------------------------\n",
    "# 使用 sklearn 中的数据集作为测试用例\n",
    "import numpy as np\n",
    "import math\n",
    "from sklearn import datasets"
   ]
  },
  {
   "cell_type": "markdown",
   "metadata": {},
   "source": [
    "## Logistic回归 算法测试用例\n",
    "\n",
    "可以调整的参数包括：\n",
    "\n",
    "- 学习率（alpha）：用于调整每次迭代的对损失函数的影响大小\n",
    "- 准确度（accuracy）：作为终止迭代的评判指标\n",
    "- 阈值（threshold）：用于给出概率后进行分类，默认为 50%\n",
    "\n",
    "可以调用的函数包括：\n",
    "\n",
    "- fit() ：用于固定学习率的拟合\n",
    "- auto_fit() ：用于自动下降学习率的拟合\n",
    "- predict() ：用于输出预测结果"
   ]
  },
  {
   "cell_type": "code",
   "execution_count": 3,
   "metadata": {},
   "outputs": [
    {
     "name": "stdout",
     "output_type": "stream",
     "text": [
      "epoch: 8\n",
      "theta: [ 0.05586408 -0.68733466 -1.75042736  2.95078531  1.58964498]\n"
     ]
    },
    {
     "data": {
      "text/plain": [
       "array([0., 0., 0., 0., 0., 0., 0., 0., 0., 0., 0., 0., 0., 0., 0., 0., 0.,\n",
       "       0., 0., 0., 0., 0., 0., 0., 0., 0., 0., 0., 0., 0., 0., 0., 0., 0.,\n",
       "       0., 0., 0., 0., 0., 0., 0., 0., 0., 0., 0., 0., 0., 0., 0., 0., 1.,\n",
       "       1., 1., 1., 1., 1., 1., 1., 1., 1., 1., 1., 1., 1., 1., 1., 1., 1.,\n",
       "       1., 1., 1., 1., 1., 1., 1., 1., 1., 1., 1., 1., 1., 1., 1., 1., 1.,\n",
       "       1., 1., 1., 1., 1., 1., 1., 1., 1., 1., 1., 1., 1., 1., 1.])"
      ]
     },
     "execution_count": 3,
     "metadata": {},
     "output_type": "execute_result"
    }
   ],
   "source": [
    "import numpy as np\n",
    "import math\n",
    "from models.LogisticRegression import LogisticRegression\n",
    "\n",
    "iris = datasets.load_iris()\n",
    "X = iris['data']\n",
    "y = iris['target']\n",
    "X = X[y!=2]\n",
    "y = y[y!=2]\n",
    "\n",
    "# 将学习率固定在 0.01\n",
    "Logstic = LogisticRegression(X, y, threshold = 0.5)    \n",
    "Logstic.fit(alpha = 0.01, accuracy = 0.001)\n",
    "print(\"epoch:\", Logstic.epoch)\n",
    "print(\"theta:\", Logstic.thetas)\n",
    "y_predict = Logstic.predict()\n",
    "y_predict"
   ]
  },
  {
   "cell_type": "code",
   "execution_count": 4,
   "metadata": {},
   "outputs": [
    {
     "name": "stdout",
     "output_type": "stream",
     "text": [
      "epoch: 6\n",
      "theta: [ 0.34284946 -0.23444331 -0.07464194  0.42403653  0.52057474]\n"
     ]
    },
    {
     "data": {
      "text/plain": [
       "array([0., 0., 0., 0., 0., 0., 0., 0., 0., 0., 0., 0., 0., 0., 0., 0., 0.,\n",
       "       0., 0., 0., 0., 0., 0., 0., 0., 0., 0., 0., 0., 0., 0., 0., 0., 0.,\n",
       "       0., 0., 0., 0., 0., 0., 0., 0., 0., 0., 0., 0., 0., 0., 0., 0., 1.,\n",
       "       1., 1., 1., 1., 1., 1., 1., 1., 1., 1., 1., 1., 1., 1., 1., 1., 1.,\n",
       "       1., 1., 1., 1., 1., 1., 1., 1., 1., 1., 1., 1., 1., 1., 1., 1., 1.,\n",
       "       1., 1., 1., 1., 1., 1., 1., 1., 1., 1., 1., 1., 1., 1., 1.])"
      ]
     },
     "execution_count": 4,
     "metadata": {},
     "output_type": "execute_result"
    }
   ],
   "source": [
    "# 使用自动控制的下降学习率\n",
    "Logstic2 = LogisticRegression(X, y, threshold = 0.5)    \n",
    "Logstic2.auto_fit(accuracy = 0.001)\n",
    "print(\"epoch:\",Logstic2.epoch)\n",
    "print(\"theta:\",Logstic2.thetas)\n",
    "y_predict = Logstic2.predict()\n",
    "y_predict"
   ]
  },
  {
   "cell_type": "markdown",
   "metadata": {},
   "source": [
    "## 神经网络 算法测试用例\n",
    "\n",
    "可以调整的参数包括：\n",
    "\n",
    "- 迭代次数（epochs）：理论上迭代次数越多越精确，耗时越长，默认为100次\n",
    "- 学习率（learn_rate）：默认为0.1，可进一步调优\n",
    "\n",
    "可以调用的函数包括：\n",
    "\n",
    "- train() ：用于训练神经网络模型\n",
    "- predict() ：用于输出预测结果\n",
    "- figure() ：用于画出损失函数迭代图"
   ]
  },
  {
   "cell_type": "code",
   "execution_count": 5,
   "metadata": {},
   "outputs": [
    {
     "data": {
      "image/png": "[encoded data removed]",
      "text/plain": [
       "<Figure size 432x288 with 1 Axes>"
      ]
     },
     "metadata": {
      "needs_background": "light"
     },
     "output_type": "display_data"
    }
   ],
   "source": [
    "from models.NeuralNetwork import NeuralNetwork\n",
    "\n",
    "iris = datasets.load_iris()\n",
    "X = iris['data']\n",
    "y = iris['target']\n",
    "X = X[y!=2][:,0:2]\n",
    "y = y[y!=2]\n",
    "\n",
    "np.random.seed(1)\n",
    "model = NeuralNetwork(X, y, learn_rate = 0.1, epochs = 1000)    \n",
    "model.train()\n",
    "model.predict()\n",
    "model.figure()"
   ]
  },
  {
   "cell_type": "markdown",
   "metadata": {},
   "source": [
    "## 详解见 代码文档.pdf "
   ]
  }
 ],
 "metadata": {
  "kernelspec": {
   "display_name": "Python 3",
   "language": "python",
   "name": "python3"
  },
  "language_info": {
   "codemirror_mode": {
    "name": "ipython",
    "version": 3
   },
   "file_extension": ".py",
   "mimetype": "text/x-python",
   "name": "python",
   "nbconvert_exporter": "python",
   "pygments_lexer": "ipython3",
   "version": "3.7.4"
  }
 },
 "nbformat": 4,
 "nbformat_minor": 2
}

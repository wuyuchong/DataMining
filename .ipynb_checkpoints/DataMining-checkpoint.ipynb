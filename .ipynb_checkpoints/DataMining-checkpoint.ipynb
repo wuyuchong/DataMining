{
 "cells": [
  {
   "cell_type": "code",
   "execution_count": null,
   "metadata": {
    "autoscroll": false,
    "collapsed": true
   },
   "outputs": [],
   "source": [
    "library(knitr)\n",
    "library(reticulate)"
   ]
  },
  {
   "cell_type": "code",
   "execution_count": null,
   "metadata": {
    "autoscroll": false,
    "collapsed": true
   },
   "outputs": [],
   "source": [
    "# use_python(\"/opt/anaconda3/bin/python3.7\")\n",
    "# use_condaenv()"
   ]
  },
  {
   "cell_type": "code",
   "execution_count": null,
   "metadata": {
    "autoscroll": false,
    "collapsed": true
   },
   "outputs": [],
   "source": [
    "use_python(\"/usr/local/bin/python3\")\n",
    "py_config()"
   ]
  },
  {
   "cell_type": "markdown",
   "metadata": {},
   "source": [
    "\n",
    "```{python}\n",
    "import numpy as np\n",
    "from scipy import linalg\n",
    "import os\n",
    "\n",
    "intercept = True\n",
    "isCp=True\n",
    "isAIC=True\n",
    "isCV=True\n",
    "\n",
    "def solve_sym(xtx, xty):\n",
    "        L = linalg.cholesky(xtx)\n",
    "        return linalg.lapack.dpotrs(L, xty)[0]\n",
    "def turnbits_rec(p):\n",
    "    if(p==1):\n",
    "        return np.array([[True, False],[True, True]])\n",
    "    else:\n",
    "        tmp1 = np.c_[ turnbits_rec(p - 1),\n",
    "                     np.array([False]*(2**(p - 1))).reshape((2**(p - 1), 1))]\n",
    "        tmp2 = np.c_[ turnbits_rec(p-1),\n",
    "                     np.array([True]*(2**(p - 1))).reshape((2**(p - 1), 1))]\n",
    "        return np.r_[tmp1, tmp2]\n",
    "```\n",
    "\n",
    "```{python}\n",
    "x = np.loadtxt(\"./DataForRegression/x.txt\", delimiter=\",\")\n",
    "y = np.loadtxt(\"./DataForRegression/y.txt\", delimiter=\",\")\n",
    "n, p = x.shape\n",
    "```\n",
    "\n",
    "如果有截距项时，加入一列1:\n",
    "\n",
    "```{python}\n",
    "if intercept:\n",
    "    x = np.c_[np.ones((n, 1)), x]\n",
    "else:\n",
    "    x = x\n",
    "```\n",
    "\n",
    "生成一个逻辑矩阵：\n",
    "\n",
    "```{python}\n",
    "ind_var = turnbits_rec(p)\n",
    "```\n",
    "\n",
    "```{python}\n",
    "xtx = np.dot(x.T, x)\n",
    "xty = np.dot(x.T, y)\n",
    "b = []\n",
    "```\n",
    "\n",
    "```{python}\n",
    "names = np.array(['x' + str(i) for i in range(1, p+1)])\n",
    "if self.isCp or self.isAIC:\n",
    "    BestSubsetRegress.Cp_AIC(self)\n",
    "\n",
    "if self.isCp:\n",
    "    min_id_Cp = np.argmin(self.Cp)\n",
    "    if self.intercept:\n",
    "        sub_names_Cp = np.insert(self.names[self.ind_var[min_id_Cp][1:]], 0, 'mu')\n",
    "    else:\n",
    "        sub_names_Cp = self.names[self.ind_var[min_id_Cp][1:]]\n",
    "    sub_beta_Cp = self.b[min_id_Cp]\n",
    "    print('The best subset and coeffecients under Cp:\\n')\n",
    "    print(dict(zip(sub_names_Cp, sub_beta_Cp)), '\\n')\n",
    "\n",
    "if self.isAIC:\n",
    "    min_id_AIC = np.argmin(self.AIC)\n",
    "    if self.intercept:\n",
    "        sub_names_AIC = np.insert(self.names[self.ind_var[min_id_AIC][1:]], 0, 'mu')\n",
    "    else:\n",
    "        sub_names_AIC = self.names[self.ind_var[min_id_AIC][1:]]\n",
    "    sub_beta_AIC = self.b[min_id_AIC]\n",
    "    print('The best subset and coeffecients under AIC:\\n')\n",
    "    print(dict(zip(sub_names_AIC, sub_beta_AIC)), '\\n')\n",
    "\n",
    "if self.isCV:\n",
    "    BestSubsetRegress.cvreg(self)\n",
    "    min_id_CV = np.argmin(self.cverr)\n",
    "    if self.intercept:\n",
    "        sub_names_CV = np.insert(self.names[self.ind_var[min_id_CV][1:]], 0, 'mu')\n",
    "    else:\n",
    "        sub_names_CV = self.names[self.ind_var[min_id_CV][1:]]\n",
    "    sub_beta_CV = self.b[min_id_CV]\n",
    "    print('The best subset and coeffecients under CV:\\n')\n",
    "    print(dict(zip(sub_names_CV, sub_beta_CV)), '\\n')\n",
    "```\n",
    "\n",
    "```{python}\n",
    "import ipyrmd\n",
    "ipyrmd.ipynb_to_rmd(\"BestSubsetRegression.ipynb\", \"BestSubsetRegression.Rmd\")\n",
    "```\n",
    "\n"
   ]
  },
  {
   "cell_type": "code",
   "execution_count": null,
   "metadata": {
    "autoscroll": false,
    "collapsed": true
   },
   "outputs": [],
   "source": []
  },
  {
   "cell_type": "markdown",
   "metadata": {},
   "source": [
    "\n",
    "\n",
    "\n",
    "\n",
    "\n",
    "\n",
    "\n",
    "\n",
    "\n",
    "\n",
    "\n",
    "\n",
    "\n",
    "\n",
    "\n",
    "\n",
    "\n"
   ]
  }
 ],
 "metadata": {
  "Rmd_header": {
   "classoption": "hyperref,",
   "documentclass": "ctexart",
   "output": {
    "rticles::ctex": {
     "fig_caption": true,
     "number_sections": true,
     "toc": true
    }
   },
   "title": "DataMining"
  },
  "kernelspec": {
   "display_name": "Python 3",
   "language": "python",
   "name": "python3"
  },
  "language_info": {
   "codemirror_mode": {
    "name": "ipython",
    "version": 3
   },
   "file_extension": ".py",
   "mimetype": "text/x-python",
   "name": "python",
   "nbconvert_exporter": "python",
   "pygments_lexer": "ipython3",
   "version": "3.7.4"
  }
 },
 "nbformat": 4,
 "nbformat_minor": 1
}

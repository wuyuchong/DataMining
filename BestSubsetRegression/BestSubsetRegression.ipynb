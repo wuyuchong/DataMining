{
 "cells": [
  {
   "cell_type": "code",
   "execution_count": 4,
   "metadata": {
    "autoscroll": false
   },
   "outputs": [],
   "source": [
    "import numpy as np\n",
    "from scipy import linalg\n",
    "import os"
   ]
  },
  {
   "cell_type": "markdown",
   "metadata": {},
   "source": [
    "\n",
    "# 类及函数封装\n",
    "\n"
   ]
  },
  {
   "cell_type": "code",
   "execution_count": 5,
   "metadata": {
    "autoscroll": false
   },
   "outputs": [],
   "source": [
    "def solve_sym(xtx, xty):\n",
    "    L = linalg.cholesky(xtx)\n",
    "    return linalg.lapack.dpotrs(L, xty)[0]"
   ]
  },
  {
   "cell_type": "markdown",
   "metadata": {},
   "source": [
    "\n",
    "我们使用递推公式获得矩阵$Z$\n",
    "\n",
    "$$\n",
    "\\begin{array}{cc}\n",
    " & p=1 \\\\\n",
    "\\begin{array}{c}0\\\\1\\end{array}&\n",
    "\\left[\\begin{array}{cc}\n",
    "0\\\\\n",
    "1\n",
    "\\end{array}\\right]\n",
    "\\end{array}\n",
    "\\Rightarrow\n",
    "\\begin{array}{cc}\n",
    " & p=2 \\\\\n",
    "\\begin{array}{c}0\\\\2\\\\1\\\\3\\end{array}&\n",
    "\\left[\\begin{array}{cc}\n",
    "0&0\\\\\n",
    "0&1\\\\\n",
    "1&0\\\\\n",
    "1&1\n",
    "\\end{array}\\right]\n",
    "\\end{array}\n",
    "\\Rightarrow\n",
    "\\begin{array}{cc}\n",
    " & p=3 \\\\\n",
    "\\begin{array}{c}0\\\\4\\\\2\\\\6\\\\1\\\\5\\\\3\\\\7\\end{array}&\n",
    "\\left[\\begin{array}{ccc}\n",
    "0&0&0\\\\\n",
    "0&0&1\\\\\n",
    "0&1&0\\\\\n",
    "0&1&1\\\\\n",
    "1&0&0\\\\\n",
    "1&0&1\\\\\n",
    "1&1&0\\\\\n",
    "1&1&1\n",
    "\\end{array}\\right]\n",
    "\\end{array}\\quad \\cdots \\tag{2}\n",
    "$$\n",
    "\n",
    "- 上面$(2)$式中矩阵左侧的数字代表矩阵行向量的十进制数值.\n",
    "- 从$(2)$式中可以看出，给矩阵左侧添加一列$0$得到的向量，其十进制值为原向量的二倍，给矩阵的左侧添加一列$1$得到的向量，其十进制值为原向量的二倍加一.\n",
    "- 给$2^p*p$维$Z$矩阵左侧分别添加一列$0$和$1$，并按行拼接，即可得到$2^{(p+1)}*(p+1)$维$Z$矩阵.\n",
    "- turnbits_rec函数即可实现此功能。\n",
    "\n"
   ]
  },
  {
   "cell_type": "code",
   "execution_count": 6,
   "metadata": {
    "autoscroll": false
   },
   "outputs": [],
   "source": [
    "def turnbits_rec(p):\n",
    "    if(p==1):\n",
    "        return np.array([[True, False],[True, True]])\n",
    "    else:\n",
    "        tmp1 = np.c_[ turnbits_rec(p - 1),\n",
    "                     np.array([False]*(2**(p - 1))).reshape((2**(p - 1), 1))] # Create False and then reshape.\n",
    "        tmp2 = np.c_[ turnbits_rec(p - 1),\n",
    "                     np.array([True]*(2**(p - 1))).reshape((2**(p - 1), 1))] # Create True and then reshape.\n",
    "        return np.r_[tmp1, tmp2]"
   ]
  },
  {
   "cell_type": "code",
   "execution_count": 7,
   "metadata": {
    "autoscroll": false
   },
   "outputs": [],
   "source": [
    "class BestSubsetRegress(object):\n",
    "    \"\"\"BestSubsetRegression\n",
    "\n",
    "    A best subset regression based on Cp, AIC and cross validation.\n",
    "\n",
    "    Attributes:\n",
    "        x: A ndarray data of dependent variable.\n",
    "        y: A ndarray data of independent variable.\n",
    "        intercept: A boolean indicating if intercept is included in data.\n",
    "        isCp: A boolean indicating if Cp is applied.\n",
    "        isAIC: A boolean indicating if AIC is applied.\n",
    "        isCV: A boolean indicating if cross validation is applied.\n",
    "    \"\"\"\n",
    "    def __init__(self, x=0,  y=0, intercept=True, isCp=True, isAIC=True, isCV=True):\n",
    "        self.n, self.p = x.shape\n",
    "        if intercept:\n",
    "            self.x = np.c_[np.ones((self.n, 1)), x] # If intercept, then generize a column which is all 1\n",
    "        else:\n",
    "            self.x = x\n",
    "\n",
    "        self.ind_var = turnbits_rec(self.p) # Generate the matrix using the pre-defined function\n",
    "        self.y = y\n",
    "        self.xtx = np.dot(self.x.T, self.x)\n",
    "        self.xty = np.dot(self.x.T, self.y)\n",
    "        self.b = [] # Regression Coefficients\n",
    "\n",
    "        # Parameters\n",
    "        self.isCp = isCp\n",
    "        self.isAIC = isAIC\n",
    "        self.isCV = isCV\n",
    "        self.intercept = intercept\n",
    "\n",
    "    # Calculate Regression Coefficients\n",
    "    def regress(self):\n",
    "        self.b = [solve_sym(self.xtx[ind][:, ind], self.xty[ind]) # \"ind\" is the index of the variables.\n",
    "                  for ind in self.ind_var]\n",
    "        return self.b\n",
    "\n",
    "    # Calculate CV statistics\n",
    "    def Cp_AIC(self):\n",
    "        self.b = BestSubsetRegress.regress(self)\n",
    "        mse = [np.sum(np.dot(self.xtx[ind][:, ind], b_)*b_)\n",
    "               for ind, b_ in zip(self.ind_var, self.b)]\n",
    "        rss = np.dot(self.y, self.y) - mse\n",
    "        d = np.sum(self.ind_var, axis=1)\n",
    "        self.Cp = rss + 2*d*rss[-1]/(self.n - self.p - 1)\n",
    "        self.AIC = self.n*np.log(rss) + 2*d\n",
    "\n",
    "    # Performing Cross Validation\n",
    "    def cvreg(self):\n",
    "        K = 10\n",
    "        indices = np.array_split(np.random.permutation(np.arange(0, self.n)), K) # Split the datasets into K folds.\n",
    "\n",
    "        def cvk(ind, index): # \"ind\" is the index of the variables. \"index\" is the index of the index of the Kth fold.\n",
    "            txx = self.xtx[ind][:, ind] - np.dot((self.x[index][:, ind]).T,\n",
    "                                                 self.x[index][:, ind])\n",
    "            txy = self.xty[ind] - np.dot((self.x[index][:, ind]).T,\n",
    "                                         self.y[index])\n",
    "            tcoe = solve_sym(txx, txy)\n",
    "            return np.sum(\n",
    "                (self.y[index] - np.dot(self.x[index][:, ind], tcoe))**2)\n",
    "        self.cverr = np.sum(np.array(\n",
    "            [[cvk(ind, index) for index in indices]\n",
    "             for ind in self.ind_var]), axis = 1)/self.n\n",
    "\n",
    "\n",
    "    def bestsubsetregress(self):\n",
    "        self.names = np.array(['x' + str(i) for i in range(1, self.p+1)])\n",
    "\n",
    "        if self.isCp or self.isAIC:\n",
    "            BestSubsetRegress.Cp_AIC(self)\n",
    "\n",
    "        if self.isCp:\n",
    "            min_id_Cp = np.argmin(self.Cp)\n",
    "            if self.intercept:\n",
    "                sub_names_Cp = np.insert(self.names[self.ind_var[min_id_Cp][1:]], 0, 'mu')\n",
    "            else:\n",
    "                sub_names_Cp = self.names[self.ind_var[min_id_Cp][1:]]\n",
    "            sub_beta_Cp = self.b[min_id_Cp]\n",
    "            print('The best subset and coeffecients under Cp:\\n')\n",
    "            print(dict(zip(sub_names_Cp, sub_beta_Cp)), '\\n')\n",
    "\n",
    "        if self.isAIC:\n",
    "            min_id_AIC = np.argmin(self.AIC)\n",
    "            if self.intercept:\n",
    "                sub_names_AIC = np.insert(self.names[self.ind_var[min_id_AIC][1:]], 0, 'mu')\n",
    "            else:\n",
    "                sub_names_AIC = self.names[self.ind_var[min_id_AIC][1:]]\n",
    "            sub_beta_AIC = self.b[min_id_AIC]\n",
    "            print('The best subset and coeffecients under AIC:\\n')\n",
    "            print(dict(zip(sub_names_AIC, sub_beta_AIC)), '\\n')\n",
    "\n",
    "        if self.isCV:\n",
    "            BestSubsetRegress.cvreg(self)\n",
    "            min_id_CV = np.argmin(self.cverr)\n",
    "            if self.intercept:\n",
    "                sub_names_CV = np.insert(self.names[self.ind_var[min_id_CV][1:]], 0, 'mu')\n",
    "            else:\n",
    "                sub_names_CV = self.names[self.ind_var[min_id_CV][1:]]\n",
    "            sub_beta_CV = self.b[min_id_CV]\n",
    "            print('The best subset and coeffecients under CV:\\n')\n",
    "            print(dict(zip(sub_names_CV, sub_beta_CV)), '\\n')"
   ]
  },
  {
   "cell_type": "markdown",
   "metadata": {},
   "source": [
    "\n",
    "# 结果\n",
    "\n"
   ]
  },
  {
   "cell_type": "code",
   "execution_count": 8,
   "metadata": {
    "autoscroll": false
   },
   "outputs": [
    {
     "name": "stdout",
     "output_type": "stream",
     "text": [
      "The best subset and coeffecients under Cp:\n",
      "\n",
      "{'mu': 0.49472926218273405, 'x1': 0.5439978569443544, 'x2': 0.58821270309517, 'x3': -0.01644484649754566, 'x4': 0.10122333372346587, 'x5': 0.714903976347165} \n",
      "\n",
      "The best subset and coeffecients under AIC:\n",
      "\n",
      "{'mu': 0.49472926218273405, 'x1': 0.5439978569443544, 'x2': 0.58821270309517, 'x3': -0.01644484649754566, 'x4': 0.10122333372346587, 'x5': 0.714903976347165} \n",
      "\n",
      "The best subset and coeffecients under CV:\n",
      "\n",
      "{'mu': -0.77715664158, 'x1': 0.5258518819809425, 'x2': 0.6617699115944506, 'x5': 0.6656665628572002} \n",
      "\n"
     ]
    }
   ],
   "source": [
    "#os.chdir()\n",
    "x = np.loadtxt(\"./DataForRegression/x.txt\", delimiter=\",\")\n",
    "y = np.loadtxt(\"./DataForRegression/y.txt\", delimiter=\",\")\n",
    "regress = BestSubsetRegress(x, y)\n",
    "regress.bestsubsetregress()"
   ]
  },
  {
   "cell_type": "markdown",
   "metadata": {},
   "source": [
    "\n",
    "# 运行指标\n",
    "\n",
    "所有模型的 Cp 统计量\n",
    "\n"
   ]
  },
  {
   "cell_type": "code",
   "execution_count": 9,
   "metadata": {
    "autoscroll": false
   },
   "outputs": [
    {
     "data": {
      "text/plain": [
       "array([128.89625931,  60.87198491, 105.85631228,  54.6779773 ,\n",
       "       126.19572643,  61.8480482 , 106.78341241,  55.01093637,\n",
       "       125.73909996,  58.58481473, 106.81264898,  55.21253879,\n",
       "       125.06011836,  59.16845908, 107.71877639,  55.18056728,\n",
       "        88.8640649 ,  56.61309532,  74.21000979,  50.48283814,\n",
       "        88.46726558,  57.58805268,  75.16117447,  50.8384296 ,\n",
       "        83.11919498,  53.20060014,  74.44826612,  50.4884743 ,\n",
       "        84.03757715,  53.64369376,  75.27236112,  50.30828436,\n",
       "        91.34658525,  61.19438516,  76.85530546,  54.83786119,\n",
       "        91.03708423,  62.16693579,  77.79760015,  55.20521981,\n",
       "        88.01061732,  58.8012657 ,  77.71425717,  55.34666926,\n",
       "        88.8066033 ,  59.40963385,  78.61296632,  55.35018109,\n",
       "        83.26614882,  57.4478506 ,  70.13680559,  51.39206599,\n",
       "        83.23329324,  58.42428262,  71.04891477,  51.73711287,\n",
       "        78.37878135,  53.98555937,  70.503571  ,  51.3659207 ,\n",
       "        79.33771078,  54.39454394,  71.26396274,  51.15648474,\n",
       "       112.45870889,  61.43500944,  91.61859321,  54.94027625,\n",
       "       112.75439566,  62.40767686,  91.88898438,  54.86801373,\n",
       "       110.4992066 ,  59.29951179,  92.45333487,  55.59546035,\n",
       "       111.41326981,  59.73941086,  92.83000938,  55.15540465,\n",
       "        84.82764867,  57.44435433,  70.30667752,  51.11695067,\n",
       "        85.39396696,  58.42271084,  70.70450217,  51.19065846,\n",
       "        80.24714539,  54.13925708,  70.93073349,  51.2601656 ,\n",
       "        81.18797201,  54.50971298,  71.05944472,  50.81014375,\n",
       "        91.02467137,  62.01606192,  76.21968796,  55.48283056,\n",
       "        91.21439756,  62.99457445,  76.89879214,  55.54293485,\n",
       "        88.09166033,  59.72616771,  77.16175714,  56.08560334,\n",
       "        89.02012106,  60.25742257,  77.77588393,  55.79113566,\n",
       "        82.64325137,  58.14056832,  69.2093875 ,  51.86848943,\n",
       "        83.10080333,  59.1137948 ,  69.7663023 ,  51.83095407,\n",
       "        78.25644382,  54.83433139,  69.79973079,  52.00170532,\n",
       "        79.22553065,  55.09600736,  70.11902753,  51.39740615,\n",
       "       107.0606578 ,  60.15262406,  88.55928781,  53.84080278,\n",
       "       107.65048568,  61.08317866,  88.73134395,  53.55231605,\n",
       "       105.27026771,  58.18830626,  89.44913147,  54.52176981,\n",
       "       106.24568779,  58.41519597,  89.70153857,  53.82414148,\n",
       "        85.53373126,  57.15999562,  71.5241298 ,  50.96075272,\n",
       "        86.06092122,  58.13182664,  72.05208077,  50.98050938,\n",
       "        81.04703584,  54.00393791,  72.11887622,  51.13533978,\n",
       "        82.00523025,  54.30290733,  72.40306416,  50.626177  ,\n",
       "        91.10504925,  61.10242896,  76.65256027,  54.75499755,\n",
       "        91.30367499,  62.04334938,  77.38088161,  54.52561397,\n",
       "        88.20130633,  59.06754801,  77.58284204,  55.41178699,\n",
       "        89.12836455,  59.35656671,  78.24511136,  54.79110444,\n",
       "        83.37014264,  57.58846478,  70.24803695,  51.53350827,\n",
       "        83.716043  ,  58.52928078,  70.95007589,  51.34212735,\n",
       "        78.91724021,  54.50223047,  70.7795837 ,  51.71564196,\n",
       "        79.89571287,  54.60070909,  71.27690969,  50.9363614 ,\n",
       "       107.26032936,  61.00007335,  88.44842568,  54.80344944,\n",
       "       107.9465786 ,  61.94182365,  88.37538909,  54.53091173,\n",
       "       105.55122945,  58.99500779,  89.30444335,  55.47143253,\n",
       "       106.52938944,  59.26828299,  89.33984772,  54.80041225,\n",
       "        85.35624631,  58.12811081,  71.06561743,  51.9222192 ,\n",
       "        86.0089262 ,  59.1010202 ,  71.38326386,  51.90550985,\n",
       "        80.98330352,  54.96681773,  71.72081184,  52.10773067,\n",
       "        81.90429254,  55.27676762,  71.76947681,  51.56861055,\n",
       "        91.76732475,  61.95349479,  77.07364583,  55.71970306,\n",
       "        92.05692163,  62.90367813,  77.69323603,  55.50421337,\n",
       "        88.9352591 ,  59.88140191,  78.0221351 ,  56.36413945,\n",
       "        89.88135044,  60.21209953,  78.57628893,  55.7675155 ,\n",
       "        83.59807308,  58.56032641,  70.1853712 ,  52.49070343,\n",
       "        84.07573342,  59.50325658,  70.72636638,  52.25178478,\n",
       "        79.23485103,  55.46954736,  70.77825061,  52.68534559,\n",
       "        80.20412233,  55.57793055,  71.08665258,  51.86582261])"
      ]
     },
     "execution_count": 9,
     "metadata": {},
     "output_type": "execute_result"
    }
   ],
   "source": [
    "regress.Cp"
   ]
  },
  {
   "cell_type": "markdown",
   "metadata": {},
   "source": [
    "\n",
    "所有模型的AIC\n",
    "\n"
   ]
  },
  {
   "cell_type": "code",
   "execution_count": 10,
   "metadata": {
    "autoscroll": false
   },
   "outputs": [
    {
     "data": {
      "text/plain": [
       "array([472.5845164 , 399.38092999, 454.41177355, 388.78850356,\n",
       "       471.75372119, 401.37675265, 456.36368106, 389.57051796,\n",
       "       471.39655046, 395.84924193, 456.39098595, 389.95248042,\n",
       "       472.08883328, 397.15835211, 458.32328717, 390.02250977,\n",
       "       437.08919065, 392.35003799, 419.85384941, 380.56952925,\n",
       "       437.54177823, 394.34345438, 421.81650379, 381.26307028,\n",
       "       431.27869393, 386.07147685, 420.84101526, 380.52141645,\n",
       "       433.20581894, 387.01178031, 422.62830233, 380.02433362,\n",
       "       439.82118744, 400.29447009, 423.38874181, 389.24139995,\n",
       "       440.41324824, 402.28439671, 425.34108834, 390.07005054,\n",
       "       437.02251264, 396.5115827 , 425.23160699, 390.34237695,\n",
       "       438.8140768 , 397.85506495, 427.12654375, 390.44936244,\n",
       "       431.45630523, 394.08974713, 414.72282679, 382.4249215 ,\n",
       "       432.22720391, 396.08581801, 416.62538408, 383.09420225,\n",
       "       426.10112589, 387.68962164, 415.822469  , 382.30598189,\n",
       "       428.07549835, 388.55756031, 417.49932718, 381.73926734,\n",
       "       460.38782932, 400.69428219, 441.05138914, 389.43628626,\n",
       "       461.78649666, 402.68444393, 442.27365013, 389.4177419 ,\n",
       "       459.77380759, 397.3881463 , 442.89391067, 390.81951631,\n",
       "       461.71559087, 398.44006089, 444.23221095, 390.0667605 ,\n",
       "       433.32374592, 394.08341186, 414.97132999, 381.84930895,\n",
       "       434.83416881, 396.08296986, 416.11907578, 381.93157759,\n",
       "       428.50489305, 387.99283233, 416.45194779, 382.08023531,\n",
       "       430.45688002, 388.78751669, 417.19547921, 380.97804185,\n",
       "       440.39958065, 402.03284115, 423.24703248, 390.60380208,\n",
       "       441.52699029, 404.03269439, 424.84441366, 390.82651131,\n",
       "       437.99370532, 398.41663655, 425.19801218, 391.88050711,\n",
       "       439.93591062, 399.62203545, 426.70757348, 391.38956919,\n",
       "       431.5029376 , 395.57035353, 413.88999929, 383.3716506 ,\n",
       "       432.858832  , 397.56056341, 415.25193194, 383.20476053,\n",
       "       426.65629696, 389.43275914, 415.30266722, 383.5722847 ,\n",
       "       428.64371742, 390.0019602 , 416.29709235, 382.11066671,\n",
       "       455.52968143, 398.54425209, 437.64608323, 387.32334441,\n",
       "       457.17021794, 400.46276551, 438.72804541, 386.82979407,\n",
       "       454.93991355, 395.42222263, 439.54548149, 388.74335393,\n",
       "       456.93689894, 396.06935138, 440.71843172, 387.41053968,\n",
       "       434.15650808, 393.5667606 , 416.7339323 , 381.52097573,\n",
       "       435.62493418, 395.55442767, 418.08521898, 381.4807326 ,\n",
       "       429.51606674, 387.72592826, 418.18164583, 381.81310228,\n",
       "       431.49040127, 388.37420056, 419.17446943, 380.57125746,\n",
       "       440.48804926, 400.49542258, 423.82601402, 389.19813248,\n",
       "       441.62613675, 402.43149023, 425.49167871, 388.8192232 ,\n",
       "       438.11997151, 397.244483  , 425.76155724, 390.57006225,\n",
       "       440.06063698, 398.00185534, 427.33851219, 389.38699616,\n",
       "       432.39441444, 394.55934734, 415.44394465, 382.66264459,\n",
       "       433.61891904, 396.48977011, 417.0326009 , 382.14484668,\n",
       "       427.52608037, 388.77259302, 416.77814743, 382.95577321,\n",
       "       429.52591295, 389.00099759, 418.05624002, 381.07873909,\n",
       "       456.80813079, 400.32165562, 438.40394807, 389.29234354,\n",
       "       458.53592372, 402.25901965, 439.18966048, 388.82978459,\n",
       "       456.27637688, 397.11451205, 440.26318633, 390.68677836,\n",
       "       458.27595654, 397.84161224, 441.17322742, 389.40582706,\n",
       "       434.78925263, 395.54765728, 416.64987098, 383.48489188,\n",
       "       436.40029141, 397.53728704, 417.67613171, 383.36540532,\n",
       "       430.19631868, 389.6948732 , 418.17463976, 383.79979435,\n",
       "       432.12284777, 390.36470637, 418.79502202, 382.49108477,\n",
       "       442.13941646, 402.27886204, 425.07967596, 391.17109796,\n",
       "       443.37567637, 404.23054237, 426.59601605, 390.81922114,\n",
       "       439.83801396, 398.94905346, 427.03920262, 392.51865494,\n",
       "       441.80048531, 399.7784035 , 428.4668867 , 391.38256627,\n",
       "       433.47363597, 396.54694201, 415.88605274, 384.61716253,\n",
       "       434.85427963, 398.48125079, 417.22378741, 383.99442259,\n",
       "       428.6560415 , 390.75008396, 417.30254492, 384.93653624,\n",
       "       430.64370585, 390.99819633, 418.28026409, 382.96810366])"
      ]
     },
     "execution_count": 10,
     "metadata": {},
     "output_type": "execute_result"
    }
   ],
   "source": [
    "regress.AIC"
   ]
  },
  {
   "cell_type": "markdown",
   "metadata": {},
   "source": [
    "\n"
   ]
  }
 ],
 "metadata": {
  "kernelspec": {
   "display_name": "Python 3",
   "language": "python",
   "name": "python3"
  },
  "language_info": {
   "codemirror_mode": {
    "name": "ipython",
    "version": 3
   },
   "file_extension": ".py",
   "mimetype": "text/x-python",
   "name": "python",
   "nbconvert_exporter": "python",
   "pygments_lexer": "ipython3",
   "version": "3.7.4"
  }
 },
 "nbformat": 4,
 "nbformat_minor": 1
}

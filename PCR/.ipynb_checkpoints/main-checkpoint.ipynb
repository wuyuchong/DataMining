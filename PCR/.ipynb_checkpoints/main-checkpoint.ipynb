{
 "cells": [
  {
   "cell_type": "markdown",
   "metadata": {},
   "source": [
    "# Regression\n",
    "\n"
   ]
  },
  {
   "cell_type": "code",
   "execution_count": 1,
   "metadata": {
    "autoscroll": false
   },
   "outputs": [],
   "source": [
    "import numpy as np\n",
    "from scipy.stats import norm\n",
    "from source.sim import sim\n",
    "from source.scale import scale\n",
    "from scipy import linalg\n",
    "from source.solve_sym import solve_sym\n",
    "\n",
    "class PCRegression(object):\n",
    "    \"\"\"Principal Component Regression\n",
    "\n",
    "    A Principal Component Regression and calculate Cp, AIC.\n",
    "\n",
    "    Attributes:\n",
    "        x: A ndarray data of dependent variable.\n",
    "        y: A ndarray data of independent variable.\n",
    "        intercept: A boolean indicating if intercept is included in data.\n",
    "        isCp: A boolean indicating if Cp is applied.\n",
    "        isAIC: A boolean indicating if AIC is applied.\n",
    "        is.PCA: A boolean indicating if performing PCA before regression.\n",
    "        method: A selection between \"normal\" or SVD\" method.\n",
    "        n_components: A number of how many components selected when performing PCA\n",
    "    \"\"\"\n",
    "    def __init__(self, x=0,  y=0, intercept=True, isCp=True, isAIC=True, isPCA=True, method=\"SVD\", n_components = 3):\n",
    "        self.n, self.p = x.shape\n",
    "        self.x = x\n",
    "        self.y = y\n",
    "        self.isCp = isCp\n",
    "        self.isAIC = isAIC\n",
    "        self.intercept = intercept\n",
    "        self.isPCA = isPCA\n",
    "        self.method = method\n",
    "        self.n_components = n_components\n",
    "\n",
    "    # Principal Component Analysis (PCA)\n",
    "    def PCA(self):\n",
    "      x_scale, x_bar, x_std = scale(self.x)\n",
    "      x_cor = np.dot(x_scale.T, x_scale)/(self.n - 1)\n",
    "      if self.method==\"SVD\":\n",
    "          U,s,Vh = linalg.svd(x_scale/np.sqrt(self.n-1))\n",
    "          pc = np.dot(U[:,0:self.p], np.diag(s))*3\n",
    "      else:\n",
    "          eigva, eigve = linalg.eigh(x_cor)\n",
    "          pc = np.dot(x_scale, eigve)\n",
    "      self.x = pc[:,:self.n_components]\n",
    "\n",
    "    # Calculate Regression Coefficients\n",
    "    def regress(self):\n",
    "        self.n, self.p = self.x.shape\n",
    "        if self.intercept:\n",
    "            self.x = np.c_[np.ones((self.n, 1)), self.x] # If intercept, then generize a column which is all 1\n",
    "            self.d = self.p + 1\n",
    "        else:\n",
    "            self.x = self.x\n",
    "            self.d = self.p\n",
    "        self.xtx = np.dot(self.x.T, self.x)\n",
    "        self.xty = np.dot(self.x.T, self.y)\n",
    "        self.b = solve_sym(self.xtx, self.xty)\n",
    "        return self.b\n",
    "\n",
    "    # Calculate Cp and AIC statistics\n",
    "    def Cp_AIC(self):\n",
    "        self.b = PCRegression.regress(self)\n",
    "        mse = np.sum(np.dot(self.xtx, self.b)*self.b)\n",
    "        rss = np.dot(self.y, self.y) - mse\n",
    "        d = self.d\n",
    "        self.Cp = rss + 2*d*rss/(self.n - self.p - 1)\n",
    "        self.AIC = self.n*np.log(rss) + 2*d\n",
    "\n",
    "    def main(self):\n",
    "        if self.isPCA:\n",
    "            PCRegression.PCA(self)\n",
    "\n",
    "        if self.isCp or self.isAIC:\n",
    "            PCRegression.Cp_AIC(self)\n",
    "\n",
    "        if self.isCp:\n",
    "            print(\"CP\")\n",
    "            print(self.Cp)\n",
    "\n",
    "        if self.isAIC:\n",
    "            print(\"AIC\")\n",
    "            print(self.AIC)"
   ]
  },
  {
   "cell_type": "markdown",
   "metadata": {},
   "source": [
    "\n",
    "# Gererate X and Y\n",
    "\n"
   ]
  },
  {
   "cell_type": "code",
   "execution_count": 2,
   "metadata": {
    "autoscroll": false
   },
   "outputs": [],
   "source": [
    "n = 1000\n",
    "p = 20\n",
    "rho = 0.75\n",
    "mu = norm.rvs(size=p, scale=1)\n",
    "x = sim(n, p, rho, mu)\n",
    "\n",
    "beta = np.ones(p)*0.01\n",
    "y = np.dot(x, beta) + norm.rvs(n)"
   ]
  },
  {
   "cell_type": "markdown",
   "metadata": {},
   "source": [
    "\n",
    "# Comparasion between PCA Regression and Normal Regression\n",
    "\n",
    "## Normal Regression\n",
    "\n"
   ]
  },
  {
   "cell_type": "code",
   "execution_count": 3,
   "metadata": {
    "autoscroll": false
   },
   "outputs": [
    {
     "name": "stdout",
     "output_type": "stream",
     "text": [
      "CP\n",
      "2.4864695532451003e-07\n",
      "AIC\n",
      "-15207.237972318797\n"
     ]
    },
    {
     "data": {
      "text/plain": [
       "21"
      ]
     },
     "execution_count": 3,
     "metadata": {},
     "output_type": "execute_result"
    }
   ],
   "source": [
    "regress1 = PCRegression(x, y, isPCA=False)\n",
    "regress1.main()\n",
    "regress1.d"
   ]
  },
  {
   "cell_type": "markdown",
   "metadata": {},
   "source": [
    "\n",
    "## PCA Regression with normal algorithom\n",
    "\n"
   ]
  },
  {
   "cell_type": "code",
   "execution_count": 4,
   "metadata": {
    "autoscroll": false
   },
   "outputs": [
    {
     "name": "stdout",
     "output_type": "stream",
     "text": [
      "CP\n",
      "12.007405035467032\n",
      "AIC\n",
      "2485.5235030903914\n"
     ]
    },
    {
     "data": {
      "text/plain": [
       "4"
      ]
     },
     "execution_count": 4,
     "metadata": {},
     "output_type": "execute_result"
    }
   ],
   "source": [
    "regress2 = PCRegression(x, y, isPCA=True, method=\"normal\")\n",
    "regress2.main()\n",
    "regress2.d"
   ]
  },
  {
   "cell_type": "markdown",
   "metadata": {},
   "source": [
    "\n",
    "## PCA Regression with SVD algorithom\n",
    "\n"
   ]
  },
  {
   "cell_type": "code",
   "execution_count": 5,
   "metadata": {
    "autoscroll": false
   },
   "outputs": [
    {
     "name": "stdout",
     "output_type": "stream",
     "text": [
      "CP\n",
      "0.01852082727424591\n",
      "AIC\n",
      "-3988.8594241930805\n"
     ]
    },
    {
     "data": {
      "text/plain": [
       "4"
      ]
     },
     "execution_count": 5,
     "metadata": {},
     "output_type": "execute_result"
    }
   ],
   "source": [
    "regress3 = PCRegression(x, y, isPCA=True, method=\"SVD\")\n",
    "regress3.main()\n",
    "regress3.d"
   ]
  }
 ],
 "metadata": {
  "kernelspec": {
   "display_name": "Python 3",
   "language": "python",
   "name": "python3"
  },
  "language_info": {
   "codemirror_mode": {
    "name": "ipython",
    "version": 3
   },
   "file_extension": ".py",
   "mimetype": "text/x-python",
   "name": "python",
   "nbconvert_exporter": "python",
   "pygments_lexer": "ipython3",
   "version": "3.7.4"
  }
 },
 "nbformat": 4,
 "nbformat_minor": 1
}
